{
 "cells": [
  {
   "cell_type": "markdown",
   "metadata": {},
   "source": [
    "go to yelp reviews\n",
    "zareeens a\n",
    "yelp.com/dataset\n",
    "help to see the dataset\n",
    "we are going to decide the features we are trying to do classification and meassure how the keywords would like or dislike. we need to decode the text to figure out the like or dislike of the review. try sentiment analysis and figure out what each text means if normal, great or low"
   ]
  },
  {
   "cell_type": "code",
   "execution_count": 15,
   "metadata": {},
   "outputs": [],
   "source": [
    "import numpy as np\n",
    "import pandas as pd\n",
    "import json as json\n",
    "import matplotlib.pyplot as plt\n",
    "from sklearn.linear_model import SGDClassifier\n",
    "import re\n",
    "from nltk.corpus import stopwords\n",
    "%matplotlib inline"
   ]
  },
  {
   "cell_type": "code",
   "execution_count": 16,
   "metadata": {},
   "outputs": [
    {
     "data": {
      "text/plain": [
       "\"\\n###### Review json example ######\\n\\n{'review_id': 'Q1sbwvVQXV2734tPgoKj4Q', \\n'user_id': 'hG7b0MtEbXx5QzbzE6C_VA', \\n'business_id': 'ujmEBvifdJM6h6RLv4wQIg', \\n'stars': 1.0, \\n'useful': 6, \\n'funny': 1, \\n'cool': 0, \\n'text': 'Total bill for this horrible service? Over $8Gs. These crooks actually had the nerve to charge us $69 for 3 pills. I checked online the pills can be had for 19 cents EACH! Avoid Hospital ERs at all costs.', \\n'date': '2013-05-07 04:34:36'}\\n\\n\""
      ]
     },
     "execution_count": 16,
     "metadata": {},
     "output_type": "execute_result"
    }
   ],
   "source": [
    "'''\n",
    "###### Business json example ######\n",
    "\n",
    "{'business_id': 'BvYU3jvGd0TJ7IyZdfiN2Q', \n",
    "'name': \"Manzetti's Tavern\", \n",
    "'address': '6401 Morrison Blvd', \n",
    "'city': 'Charlotte', \n",
    "'state': 'NC', \n",
    "'postal_code': '28211', \n",
    "'latitude': 35.156338, \n",
    "'longitude': -80.831878, \n",
    "'stars': 3.5, \n",
    "'review_count': 16, \n",
    "'is_open': 0, \n",
    "'attributes': {'Alcohol': \"u'full_bar'\", \n",
    "                'BusinessAcceptsCreditCards': 'True', \n",
    "                'RestaurantsAttire': \"u'casual'\", \n",
    "                'RestaurantsTakeOut': 'True', \n",
    "                'RestaurantsReservations': 'True', \n",
    "                'GoodForKids': 'False', \n",
    "                'RestaurantsGoodForGroups': 'True', \n",
    "                'BusinessParking': \"{'garage': False, \n",
    "                                    'street': False, \n",
    "                                    'validated': False, \n",
    "                                    'lot': True, \n",
    "                                    'valet': False}\", \n",
    "                'OutdoorSeating': 'False', \n",
    "                'RestaurantsDelivery': 'False', \n",
    "                'RestaurantsPriceRange2': '2'}, \n",
    "'categories': 'Sandwiches, Italian, American (Traditional), American (New), Seafood, Steakhouses, Restaurants', \n",
    "'hours': {'Monday': '11:0-22:0', \n",
    "        'Tuesday': '11:0-22:0', \n",
    "        'Wednesday': '11:0-23:0', \n",
    "        'Thursday': '11:0-23:0', \n",
    "        'Friday': '11:0-23:0', \n",
    "        'Saturday': '11:0-23:0', \n",
    "        'Sunday': '11:0-22:0'}}\n",
    "'''\n",
    "\n",
    "'''\n",
    "###### Review json example ######\n",
    "\n",
    "{'review_id': 'Q1sbwvVQXV2734tPgoKj4Q', \n",
    "'user_id': 'hG7b0MtEbXx5QzbzE6C_VA', \n",
    "'business_id': 'ujmEBvifdJM6h6RLv4wQIg', \n",
    "'stars': 1.0, \n",
    "'useful': 6, \n",
    "'funny': 1, \n",
    "'cool': 0, \n",
    "'text': 'Total bill for this horrible service? Over $8Gs. These crooks actually had the nerve to charge us $69 for 3 pills. I checked online the pills can be had for 19 cents EACH! Avoid Hospital ERs at all costs.', \n",
    "'date': '2013-05-07 04:34:36'}\n",
    "\n",
    "'''"
   ]
  },
  {
   "cell_type": "code",
   "execution_count": 41,
   "metadata": {},
   "outputs": [],
   "source": [
    "REPLACE_NO_SPACE = re.compile(\"(\\.)|(\\;)|(\\:)|(\\!)|(\\')|(\\?)|(\\,)|(\\\")|(\\()|(\\))|(\\[)|(\\])\")\n",
    "REPLACE_WITH_SPACE = re.compile(\"(\\-)|(\\/)\")\n",
    "\n",
    "def preprocess_reviews(review):\n",
    "    review = REPLACE_NO_SPACE.sub(\"\",review.lower())\n",
    "    review = REPLACE_WITH_SPACE.sub(\"\",review)\n",
    "    english_stop_words = stopwords.words('english')\n",
    "    removed_stop_words = ' '.join([word for word in review.split() if word not in english_stop_words])                              \n",
    "    return removed_stop_words\n",
    "\n",
    "'''\n",
    "['02342800\\t+Effect\\tthrive,prosper,fly_high,flourish\\t make steady progress; be at the high point in one\\'s career or reach a high point in historical significance or importance; \"The new student is thriving\"  ']\n",
    "'''\n",
    "\n",
    "def create_sentiment_dictionary():\n",
    "    file1 = './data/effectwordnet/goldStandard.tff'\n",
    "    file2 = './data/effectwordnet/EffectWordNet.tff'\n",
    "    temp_dict = {}\n",
    "    temp_dict_gs = {}\n",
    "    with open(file2) as fin:\n",
    "        for line in fin.readlines():\n",
    "            temp_line = line.splitlines()\n",
    "            info_list = temp_line[0].split()\n",
    "            for word in info_list[2].split(','):\n",
    "                if info_list[1] == '+Effect':\n",
    "                    temp_dict[word] = 5\n",
    "                elif info_list[1] == '-Effect':\n",
    "                    temp_dict[word] = 1\n",
    "                else:\n",
    "                    temp_dict[word] = 3\n",
    "    with open(file1) as fin:\n",
    "        for line in fin.readlines():\n",
    "            temp_line = line.splitlines()\n",
    "            info_list = temp_line[0].split()\n",
    "            for word in info_list[2].split(','):\n",
    "                if info_list[1] == '+Effect':\n",
    "                    temp_dict_gs[word] = 5\n",
    "                elif info_list[1] == '-Effect':\n",
    "                    temp_dict_gs[word] = 1\n",
    "                else:\n",
    "                    temp_dict_gs[word] = 3\n",
    "                    \n",
    "    return temp_dict, temp_dict_gs"
   ]
  },
  {
   "cell_type": "code",
   "execution_count": 19,
   "metadata": {},
   "outputs": [],
   "source": [
    "json_business_file_test_path = \"./data/yelp_dataset/business_test.json\"\n",
    "json_business_file_path = \"./data/yelp_dataset/business.json\"\n",
    "json_review_file_path = \"./data/yelp_dataset/review.json\"\n",
    "\n",
    "with open(json_business_file_path) as fin:\n",
    "    business_list = {}\n",
    "    for number, line in enumerate(fin):\n",
    "        line_contents = json.loads(line)\n",
    "        business_list[line_contents['business_id']] = line_contents\n",
    "        business_list.get(line_contents['business_id'])['reviews'] = []\n",
    "        business_list.get(line_contents['business_id'])['um_reviews'] = 0\n",
    "#         if number == 100:\n",
    "#             break\n",
    "\n",
    "\n",
    "with open(json_review_file_path) as fin:\n",
    "    for number, line in enumerate(fin):\n",
    "        line_contents = json.loads(line)\n",
    "        business_list.get(line_contents['business_id']).get('reviews').append(line_contents)\n",
    "#         print('line: {}\\n'.format(line_contents))\n",
    "#         if number == 100:\n",
    "#             break\n",
    "\n"
   ]
  },
  {
   "cell_type": "code",
   "execution_count": 20,
   "metadata": {},
   "outputs": [],
   "source": [
    "sentiment_word_dict, sentiment_word_dict_gs = create_sentiment_dictionary()"
   ]
  },
  {
   "cell_type": "code",
   "execution_count": 64,
   "metadata": {},
   "outputs": [],
   "source": [
    "test_business_list = []\n",
    "for business in business_list:\n",
    "    if business_list.get(business).get('review_count') > 1000:\n",
    "        #print(business)\n",
    "        #print(business_list.get(business).get('review_count'))\n",
    "        test_business_list.append(business)\n",
    "    else:\n",
    "        continue"
   ]
  },
  {
   "cell_type": "code",
   "execution_count": 65,
   "metadata": {},
   "outputs": [],
   "source": [
    "def get_reviews_list(business):\n",
    "    review_list = []\n",
    "    score_list = []\n",
    "    total_num_rating = 0\n",
    "    actual_rating = business_list.get(business).get('stars')\n",
    "    for review in business_list.get(business).get('reviews'):\n",
    "        total_prediction = 0\n",
    "        num_matches = 0\n",
    "        temp_score = 0\n",
    "        temp_text = preprocess_reviews(review.get('text'))\n",
    "        tokenize_text = temp_text.split()\n",
    "        for word in tokenize_text:\n",
    "            if sentiment_word_dict.get(word):\n",
    "                temp_score += sentiment_word_dict.get(word)\n",
    "                num_matches += 1\n",
    "            elif sentiment_word_dict_gs.get(word):\n",
    "                temp_score += sentiment_word_dict_gs.get(word)\n",
    "                num_matches += 1\n",
    "\n",
    "        if not int(num_matches) == 0:\n",
    "#             print('review_avg_score: {}'.format(temp_score/num_matches))\n",
    "#             print('num_matches: {}'.format(num_matches))\n",
    "            review_list.append(temp_text)\n",
    "            total_num_rating += (temp_score/num_matches)\n",
    "            if (temp_score/num_matches) < 3:\n",
    "                score_list.append('negative')\n",
    "            elif (temp_score/num_matches) > 3:\n",
    "                score_list.append('positive')\n",
    "            else:\n",
    "                score_list.append('neutral')\n",
    "        \n",
    "                  \n",
    "    return_obj = {}\n",
    "    return_obj['reviews'] = review_list\n",
    "    return_obj['scores'] = score_list\n",
    "    return return_obj\n",
    "        \n",
    "# print('business name: {}'.format(business_list.get('K7lWdNUhCbcnEvI0NhGewg').get('name')))      \n",
    "# print('predicted stars: {}'.format(total_num_rating/business_list.get('K7lWdNUhCbcnEvI0NhGewg').get('review_count')))\n",
    "# print('actual stars: {}\\n'.format(actual_rating))"
   ]
  },
  {
   "cell_type": "code",
   "execution_count": 66,
   "metadata": {},
   "outputs": [
    {
     "name": "stdout",
     "output_type": "stream",
     "text": [
      "size of list: 632047\n",
      "size of label: 632047\n"
     ]
    }
   ],
   "source": [
    "\n",
    "review_data = []\n",
    "review_score = []\n",
    "\n",
    "for business in test_business_list:\n",
    "    res = get_reviews_list(business)\n",
    "    review_data = review_data + res.get('reviews')\n",
    "    review_score = review_score + res.get('scores')\n",
    "\n",
    "\n",
    "print('size of list: {}'.format(len(review_data)))\n",
    "print('size of label: {}'.format(len(review_score)))\n",
    "# print(review_data[1])\n",
    "# print(review_score[1])\n",
    "# review_score\n",
    "        "
   ]
  },
  {
   "cell_type": "code",
   "execution_count": 67,
   "metadata": {},
   "outputs": [],
   "source": [
    "def transform_to_features(data):\n",
    "    from sklearn.feature_extraction.text import CountVectorizer\n",
    "    vectorizer = CountVectorizer(\n",
    "        analyzer = 'word',\n",
    "        lowercase = False,\n",
    "    )\n",
    "    features = vectorizer.fit_transform(\n",
    "        data\n",
    "    )\n",
    "    features_nd = features.toarray()\n",
    "    return features_nd"
   ]
  },
  {
   "cell_type": "code",
   "execution_count": 68,
   "metadata": {},
   "outputs": [],
   "source": [
    "def train_then_build_model(x_train, x_test, y_train, y_test):\n",
    "\n",
    "    from sklearn.linear_model import LogisticRegression\n",
    "    log_model = LogisticRegression()\n",
    "\n",
    "    log_model = log_model.fit(X=x_train, y=y_train)\n",
    "    y_pred = log_model.predict(x_test)\n",
    "\n",
    "    # print first 10th prediction in this format:\n",
    "    # ::{prediction}::{tweet}\n",
    "#     for i in range(0,10):\n",
    "#         index = features_nd.tolist().index(X_test[i].tolist())\n",
    "#         print(\"::{}::{}\".format(y_pred[i], data[index]))\n",
    "    \n",
    "    # print accuracy\n",
    "    from sklearn.metrics import accuracy_score\n",
    "    print(\"Accuracy={}\".format(accuracy_score(y_test, y_pred)))"
   ]
  },
  {
   "cell_type": "code",
   "execution_count": 69,
   "metadata": {},
   "outputs": [
    {
     "name": "stdout",
     "output_type": "stream",
     "text": [
      "33628\n",
      "30372\n",
      "6869\n",
      "6869\n"
     ]
    }
   ],
   "source": [
    "x_train = transform_to_features(x_train_raw)\n",
    "x_test = transform_to_features(x_test_raw)\n",
    "print(len(x_train))\n",
    "print(len(y_train))\n",
    "print(len(x_test))\n",
    "print(len(y_test))\n",
    "# train_then_build_model(x_train, x_test, y_train, y_test )"
   ]
  },
  {
   "cell_type": "code",
   "execution_count": 89,
   "metadata": {},
   "outputs": [
    {
     "name": "stderr",
     "output_type": "stream",
     "text": [
      "/Users/wbaron/Quali/py3.7/lib/python3.7/site-packages/sklearn/model_selection/_split.py:2179: FutureWarning: From version 0.21, test_size will always complement train_size unless both are specified.\n",
      "  FutureWarning)\n",
      "/Users/wbaron/Quali/py3.7/lib/python3.7/site-packages/sklearn/linear_model/logistic.py:433: FutureWarning: Default solver will be changed to 'lbfgs' in 0.22. Specify a solver to silence this warning.\n",
      "  FutureWarning)\n",
      "/Users/wbaron/Quali/py3.7/lib/python3.7/site-packages/sklearn/linear_model/logistic.py:460: FutureWarning: Default multi_class will be changed to 'auto' in 0.22. Specify the multi_class option to silence this warning.\n",
      "  \"this warning.\", FutureWarning)\n"
     ]
    },
    {
     "name": "stdout",
     "output_type": "stream",
     "text": [
      "Accuracy for C=1: 0.9000202516264587\n"
     ]
    },
    {
     "name": "stderr",
     "output_type": "stream",
     "text": [
      "/Users/wbaron/Quali/py3.7/lib/python3.7/site-packages/sklearn/linear_model/logistic.py:433: FutureWarning: Default solver will be changed to 'lbfgs' in 0.22. Specify a solver to silence this warning.\n",
      "  FutureWarning)\n",
      "/Users/wbaron/Quali/py3.7/lib/python3.7/site-packages/sklearn/linear_model/logistic.py:460: FutureWarning: Default multi_class will be changed to 'auto' in 0.22. Specify the multi_class option to silence this warning.\n",
      "  \"this warning.\", FutureWarning)\n"
     ]
    },
    {
     "name": "stdout",
     "output_type": "stream",
     "text": [
      "Logistic Regression Score:  [0.88658456 0.8878313  0.88702052]\n",
      "Accuracy:  0.9000202516264587\n",
      "Precision:  0.9052832950072043\n",
      "Recall:  0.8840784335104866\n",
      "F1: 0.8881593159265293\n"
     ]
    }
   ],
   "source": [
    "from sklearn.feature_extraction.text import TfidfVectorizer\n",
    "from sklearn.linear_model import LogisticRegression\n",
    "from sklearn.metrics import accuracy_score\n",
    "from sklearn.model_selection import train_test_split\n",
    "from sklearn.model_selection import cross_val_score\n",
    "from sklearn.metrics import accuracy_score\n",
    "from sklearn.metrics import precision_score\n",
    "from sklearn.metrics import recall_score\n",
    "from sklearn.metrics import f1_score\n",
    "\n",
    "tfidf_vectorizer = TfidfVectorizer()\n",
    "tfidf_vectorizer.fit(review_data)\n",
    "X = tfidf_vectorizer.transform(review_data)\n",
    "X_test = tfidf_vectorizer.transform(review_data)\n",
    "\n",
    "X_train, X_val, y_train, y_val = train_test_split(\n",
    "    X, review_score, train_size = 0.75\n",
    ")\n",
    "    \n",
    "lr = LogisticRegression(C=1)\n",
    "lr.fit(X_train, y_train)\n",
    "print (\"Accuracy for C=%s: %s\" \n",
    "       % (c, accuracy_score(y_val, lr.predict(X_val))))\n",
    "\n",
    "print(\"Logistic Regression Score: \", cross_val_score(lr, X_train, y_train, cv=3))\n",
    "\n",
    "# Accuracy Score\n",
    "\n",
    "y_pred = lr.predict(X_val)\n",
    "print('Accuracy: ', accuracy_score(y_val, y_pred))\n",
    "\n",
    "# Precision Score\n",
    "\n",
    "print('Precision: ', precision_score(y_val, y_pred, average='macro'))\n",
    "\n",
    "# Recall\n",
    "\n",
    "print('Recall: ', recall_score(y_val, y_pred, average='macro'))\n",
    "\n",
    "# F1 Score\n",
    "\n",
    "print('F1:', f1_score(y_val, y_pred, average='macro'))"
   ]
  },
  {
   "cell_type": "code",
   "execution_count": 90,
   "metadata": {},
   "outputs": [],
   "source": [
    "def get_prediction_starts_for_restaurant(review_predictions):\n",
    "    predicted_stars = -1\n",
    "    prediction_aggregate_score = 0\n",
    "    for prediction in review_predictions:\n",
    "        if prediction == 'positive':\n",
    "            prediction_aggregate_score += 5\n",
    "        elif prediction == 'neutral':\n",
    "            prediction_aggregate_score += 3\n",
    "        elif prediction == 'negative':\n",
    "            prediction_aggregate_score += 1\n",
    "        else:\n",
    "            print('no rating based on error!!!')\n",
    "            print(prediction)\n",
    "            \n",
    "    predicted_stars = prediction_aggregate_score/len(review_predictions)\n",
    "    return predicted_stars\n",
    "            "
   ]
  },
  {
   "cell_type": "code",
   "execution_count": 91,
   "metadata": {},
   "outputs": [
    {
     "ename": "SyntaxError",
     "evalue": "invalid syntax (<ipython-input-91-e00aba7c2f00>, line 18)",
     "output_type": "error",
     "traceback": [
      "\u001b[0;36m  File \u001b[0;32m\"<ipython-input-91-e00aba7c2f00>\"\u001b[0;36m, line \u001b[0;32m18\u001b[0m\n\u001b[0;31m    for key, value in sorted(business_prediction_rank.iteritems(), key=lambda (k,v): (v,k)):\u001b[0m\n\u001b[0m                                                                              ^\u001b[0m\n\u001b[0;31mSyntaxError\u001b[0m\u001b[0;31m:\u001b[0m invalid syntax\n"
     ]
    }
   ],
   "source": [
    "business_prediction_rank = {}\n",
    "for business in business_list:\n",
    "    if business_list.get(business).get('review_count') > 2000:\n",
    "        actual_rating = business_list.get(business).get('stars')\n",
    "        business_reviews = []\n",
    "        for review in business_list.get(business).get('reviews'):\n",
    "            temp_text = preprocess_reviews(review.get('text'))\n",
    "            business_reviews.append(temp_text)\n",
    "            \n",
    "        review_matrix = tfidf_vectorizer.transform(business_reviews)\n",
    "        business_predictions = lr.predict(review_matrix)\n",
    "        predicted_stars = get_prediction_starts_for_restaurant(business_predictions)\n",
    "        business_predictions_rank[business] = abs(predicted_stars - actual_rating)\n",
    "        business_list.get(business)['predicted_stars'] = predicted_stars\n",
    "#         print(business_list.get(business).get('name'))\n",
    "#         print('prediction score: {}'.format(predicted_stars))\n",
    "#         print('actual score: {}'.format(actual_rating))\n",
    "for key, value in sorted(business_prediction_rank.iteritems(), key=lambda (k,v):(v,k)):\n",
    "    print(\"**********************************************\")\n",
    "    print(\"{}: {}\".format(business_list.get(key).get('name'), value))\n",
    "    print(\"   - Prediction stars: {}\".format(business_list.get(key).get('predicted_stars')))\n",
    "    print(\"   - Actual stars: {}\".format(business_list.get(key).get('stars')))\n",
    "    print(\"   - Number of reviews: {}\".format(business_list.get(key).get('review_count')))\n",
    "    print('\\n')\n",
    "        \n",
    "            \n",
    "        "
   ]
  },
  {
   "cell_type": "code",
   "execution_count": null,
   "metadata": {},
   "outputs": [],
   "source": []
  }
 ],
 "metadata": {
  "kernelspec": {
   "display_name": "Python 3",
   "language": "python",
   "name": "python3"
  },
  "language_info": {
   "codemirror_mode": {
    "name": "ipython",
    "version": 3
   },
   "file_extension": ".py",
   "mimetype": "text/x-python",
   "name": "python",
   "nbconvert_exporter": "python",
   "pygments_lexer": "ipython3",
   "version": "3.7.0"
  }
 },
 "nbformat": 4,
 "nbformat_minor": 2
}
